{
  "nbformat": 4,
  "nbformat_minor": 0,
  "metadata": {
    "colab": {
      "provenance": []
    },
    "kernelspec": {
      "name": "python3",
      "display_name": "Python 3"
    },
    "language_info": {
      "name": "python"
    }
  },
  "cells": [
    {
      "cell_type": "code",
      "execution_count": 1,
      "metadata": {
        "colab": {
          "base_uri": "https://localhost:8080/"
        },
        "id": "kBopPylbgyBi",
        "outputId": "4e549ac5-d2c3-46c5-a02b-0297d2a06373"
      },
      "outputs": [
        {
          "output_type": "stream",
          "name": "stdout",
          "text": [
            "[-1, 0, 7, 8, 10, 70]\n"
          ]
        }
      ],
      "source": [
        "def bubblesort(array):\n",
        "   for i in range(len(array)):\n",
        "    for j in range(0,len(array)-1-1):\n",
        "      if array[j]>array[j+1]:\n",
        "        array[j],array[j+1]=array[j+1],array[j]\n",
        "data=[-1,7,10,0,8,70]\n",
        "bubblesort(data)\n",
        "print(data)"
      ]
    }
  ]
}