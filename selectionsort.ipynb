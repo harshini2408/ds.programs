{
  "nbformat": 4,
  "nbformat_minor": 0,
  "metadata": {
    "colab": {
      "provenance": []
    },
    "kernelspec": {
      "name": "python3",
      "display_name": "Python 3"
    },
    "language_info": {
      "name": "python"
    }
  },
  "cells": [
    {
      "cell_type": "code",
      "execution_count": 7,
      "metadata": {
        "colab": {
          "base_uri": "https://localhost:8080/"
        },
        "id": "6FZ94455hvLw",
        "outputId": "45e3c137-59d6-47a9-b680-a5d20f11972b"
      },
      "outputs": [
        {
          "output_type": "stream",
          "name": "stdout",
          "text": [
            "Sorted: [0, 3, 7, 7, 10, 11, 54, 78, 97]\n"
          ]
        }
      ],
      "source": [
        "def selectionSort(n1, length):\n",
        "    \tfor i in range(length):\n",
        "\t\t    min = i\n",
        "\t\t    for j in range(i + 1, length):\n",
        "\t\t    \tif n1[j] < n1[min]:\n",
        "\t\t\t\t    min = j\n",
        "\t\t    n1[i], n1[min] = n1[min], n1[i]\n",
        "n1 = [7, 54, 0, 11,10,78,97,3,7]\n",
        "length = len(n1)\n",
        "selectionSort(n1,length)\n",
        "print(\"Sorted:\",n1)\n"
      ]
    }
  ]
}