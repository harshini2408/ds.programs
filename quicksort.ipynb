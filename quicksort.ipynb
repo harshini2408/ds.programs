{
  "nbformat": 4,
  "nbformat_minor": 0,
  "metadata": {
    "colab": {
      "provenance": []
    },
    "kernelspec": {
      "name": "python3",
      "display_name": "Python 3"
    },
    "language_info": {
      "name": "python"
    }
  },
  "cells": [
    {
      "cell_type": "code",
      "execution_count": 1,
      "metadata": {
        "colab": {
          "base_uri": "https://localhost:8080/"
        },
        "id": "mhCjZFvDmOMC",
        "outputId": "2d7bbb4f-4a7d-4578-9ab6-9fcedef1793b"
      },
      "outputs": [
        {
          "output_type": "stream",
          "name": "stdout",
          "text": [
            "Unsorted Array\n",
            "[8, 7, 2, 1, 0, 9, 6]\n",
            "Sorted Array in Ascending Order:\n",
            "[0, 1, 2, 6, 7, 8, 9]\n"
          ]
        }
      ],
      "source": [
        "def partition(array, low, high):\n",
        "  pivot = array[high]\n",
        "  i = low - 1\n",
        "  for j in range(low, high):\n",
        "    if array[j] <= pivot:\n",
        "      i = i + 1\n",
        "      (array[i], array[j]) = (array[j], array[i])\n",
        "  (array[i + 1], array[high]) = (array[high], array[i + 1])\n",
        "  return i + 1\n",
        "def quickSort(array, low, high):\n",
        "  if low < high:\n",
        "    pi = partition(array, low, high)\n",
        "    quickSort(array, low, pi - 1)\n",
        "    quickSort(array, pi + 1, high)\n",
        "data = [8, 7, 2, 1, 0, 9, 6]\n",
        "print(\"Unsorted Array\")\n",
        "print(data)\n",
        "size = len(data)\n",
        "quickSort(data, 0, size - 1)\n",
        "print('Sorted Array in Ascending Order:')\n",
        "print(data)"
      ]
    }
  ]
}