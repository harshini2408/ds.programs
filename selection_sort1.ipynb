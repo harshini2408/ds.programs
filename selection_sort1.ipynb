{
  "nbformat": 4,
  "nbformat_minor": 0,
  "metadata": {
    "colab": {
      "provenance": []
    },
    "kernelspec": {
      "name": "python3",
      "display_name": "Python 3"
    },
    "language_info": {
      "name": "python"
    }
  },
  "cells": [
    {
      "cell_type": "code",
      "execution_count": 1,
      "metadata": {
        "colab": {
          "base_uri": "https://localhost:8080/"
        },
        "id": "CpJcJ_GIXKdr",
        "outputId": "4dc94cff-0856-4552-a0ee-a0f83c2f605b"
      },
      "outputs": [
        {
          "output_type": "stream",
          "name": "stdout",
          "text": [
            "[2, 3, 8, 6, 7, 5]\n",
            "[2, 3, 8, 6, 7, 5]\n",
            "[2, 3, 5, 6, 7, 8]\n",
            "[2, 3, 5, 6, 7, 8]\n",
            "[2, 3, 5, 6, 7, 8]\n",
            "[2, 3, 5, 6, 7, 8]\n"
          ]
        }
      ],
      "source": [
        "def sort(nums):\n",
        "  for i in range(5):\n",
        "    minpos=i\n",
        "    for j in range(i,6):\n",
        "      if nums[j]<nums[minpos]:\n",
        "        minpos=j\n",
        "    temp=nums[i]\n",
        "    nums[i]=nums[minpos]\n",
        "    nums[minpos]=temp\n",
        "\n",
        "    \n",
        "    print(nums)\n",
        "nums=[5,3,8,6,7,2]\n",
        "sort(nums)\n",
        "\n",
        "print(nums)"
      ]
    }
  ]
}