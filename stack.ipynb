{
  "nbformat": 4,
  "nbformat_minor": 0,
  "metadata": {
    "colab": {
      "provenance": []
    },
    "kernelspec": {
      "name": "python3",
      "display_name": "Python 3"
    },
    "language_info": {
      "name": "python"
    }
  },
  "cells": [
    {
      "cell_type": "code",
      "execution_count": null,
      "metadata": {
        "id": "ogfERuCmr7cM"
      },
      "outputs": [],
      "source": [
        "class Stack:\n",
        "    def __init__(self):\n",
        "        # Initialize an empty stack\n",
        "        self.items = []\n",
        "\n",
        "    def push(self, item):\n",
        "        # Add an item to the top of the stack\n",
        "        self.items.append(item)\n",
        "\n",
        "    def pop(self):\n",
        "        # Remove and return the item at the top of the stack\n",
        "        return self.items.pop()\n",
        "\n",
        "    def peek(self):\n",
        "        # Return the item at the top of the stack without removing it\n",
        "        return self.items[-1]\n",
        "\n",
        "    def is_empty(self):\n",
        "        # Return True if the stack is empty, False otherwise\n",
        "        return not self.items\n",
        "    def display(self):\n",
        "        # Print the items in the stack\n",
        "        for item in self.items:\n",
        "            print(item)\n",
        "\n",
        "\n",
        "def print_menu():\n",
        "    print('1. Push an item onto the stack')\n",
        "    print('2. Pop an item from the stack')\n",
        "    print('3. Peek at the top item on the stack')\n",
        "    print('4. Check if the stack is empty')\n",
        "    print('5. Quit')\n",
        "    print('6.Display')\n",
        "    print()\n",
        "\n",
        "\n",
        "stack = Stack()\n",
        "\n",
        "while True:\n",
        "    print_menu()\n",
        "    choice = int(input('Enter your choice: '))\n",
        "\n",
        "    if choice == 1:\n",
        "        item = input('Enter an item to push: ')\n",
        "        stack.push(item)\n",
        "    elif choice == 2:\n",
        "        if stack.is_empty():\n",
        "            print('The stack is empty.')\n",
        "        else:\n",
        "            print('Popped', stack.pop())\n",
        "    elif choice == 3:\n",
        "        if stack.is_empty():\n",
        "            print('The stack is empty.')\n",
        "        else:\n",
        "            print('Peeked', stack.peek())\n",
        "    elif choice == 4:\n",
        "        if stack.is_empty():\n",
        "            print('The stack is empty.')\n",
        "        else:\n",
        "            print('The stack is not empty.')\n",
        "    elif choice == 5:\n",
        "        break\n",
        "    elif choice==6:\n",
        "        print(\"Stack contains:\",stack.display())\n",
        "    else:\n",
        "        print('Invalid choice. Enter a number between 1 and 6.')\n",
        "    print()"
      ]
    }
  ]
}