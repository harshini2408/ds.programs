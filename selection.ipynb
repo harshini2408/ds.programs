{
  "nbformat": 4,
  "nbformat_minor": 0,
  "metadata": {
    "colab": {
      "provenance": []
    },
    "kernelspec": {
      "name": "python3",
      "display_name": "Python 3"
    },
    "language_info": {
      "name": "python"
    }
  },
  "cells": [
    {
      "cell_type": "code",
      "execution_count": 1,
      "metadata": {
        "colab": {
          "base_uri": "https://localhost:8080/"
        },
        "id": "cfz1STmmZ2ak",
        "outputId": "fb7aed55-7ab8-4e28-8292-0613d9c3071a"
      },
      "outputs": [
        {
          "output_type": "stream",
          "name": "stdout",
          "text": [
            "[-1, 100, 5, 78, 4, 2]\n",
            "[-1, 2, 5, 78, 4, 100]\n",
            "[-1, 2, 4, 78, 5, 100]\n",
            "[-1, 2, 4, 5, 78, 100]\n",
            "[-1, 2, 4, 5, 78, 100]\n",
            "[-1, 2, 4, 5, 78, 100]\n"
          ]
        }
      ],
      "source": [
        "def sort(nums):\n",
        "  for i in range(5):\n",
        "    minpos=i\n",
        "    for j in range(i,6):\n",
        "      if nums[j]<nums[minpos]:\n",
        "        minpos=j\n",
        "    temp=nums[i]\n",
        "    nums[i]=nums[minpos]\n",
        "    nums[minpos]=temp\n",
        "\n",
        "\n",
        "    print(nums)\n",
        "nums=[100,-1,5,78,4,2]\n",
        "sort(nums)\n",
        "\n",
        "print(nums)"
      ]
    }
  ]
}